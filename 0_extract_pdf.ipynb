{
 "cells": [
  {
   "cell_type": "code",
   "execution_count": 1,
   "id": "64c552cf",
   "metadata": {},
   "outputs": [],
   "source": [
    "import os\n",
    "import fitz\n",
    "from PIL import Image\n",
    "from io import BytesIO\n",
    "import base64\n",
    "from dotenv import load_dotenv\n",
    "import openai\n",
    "from tqdm import tqdm"
   ]
  },
  {
   "cell_type": "code",
   "execution_count": 2,
   "id": "700f4c1d",
   "metadata": {},
   "outputs": [],
   "source": [
    "# Load API Key\n",
    "load_dotenv()\n",
    "\n",
    "# Konfigurasi Groq API\n",
    "openai.api_key = os.getenv(\"GROQ_API_KEY\")\n",
    "openai.base_url = \"https://api.groq.com/openai/v1\""
   ]
  },
  {
   "cell_type": "code",
   "execution_count": 3,
   "id": "47b1d989",
   "metadata": {},
   "outputs": [],
   "source": [
    "# Path file PDF\n",
    "pdf_path = \"/Users/mhdfarhanali/Documents/InstruRAG/data/pdf/Introduction_to_Instrumentation__Sensors__and_Process_Control.pdf\""
   ]
  },
  {
   "cell_type": "code",
   "execution_count": 4,
   "id": "c031b8a8",
   "metadata": {},
   "outputs": [
    {
     "name": "stdout",
     "output_type": "stream",
     "text": [
      "Jumlah halaman dalam PDF: 349\n"
     ]
    },
    {
     "name": "stderr",
     "output_type": "stream",
     "text": [
      "Mengekstrak teks halaman: 100%|██████████| 349/349 [00:00<00:00, 726.57it/s]"
     ]
    },
    {
     "name": "stdout",
     "output_type": "stream",
     "text": [
      "Ekstraksi selesai\n"
     ]
    },
    {
     "name": "stderr",
     "output_type": "stream",
     "text": [
      "\n"
     ]
    }
   ],
   "source": [
    "# Buka file PDF\n",
    "pdf_document = fitz.open(pdf_path)\n",
    "\n",
    "all_text = \"\"\n",
    "print(f\"Jumlah halaman dalam PDF: {len(pdf_document)}\")\n",
    "\n",
    "# Loop setiap halaman\n",
    "for page_num in tqdm(range(len(pdf_document)), desc=\"Mengekstrak teks halaman\"):\n",
    "    page = pdf_document.load_page(page_num)\n",
    "    text = page.get_text(\"text\") \n",
    "    all_text += f\"\\n--- [HALAMAN {page_num+1}] ---\\n{text}\\n\"\n",
    "\n",
    "pdf_document.close()\n",
    "print(\"Ekstraksi selesai\")\n"
   ]
  },
  {
   "cell_type": "code",
   "execution_count": 5,
   "id": "94719562",
   "metadata": {},
   "outputs": [
    {
     "name": "stdout",
     "output_type": "stream",
     "text": [
      "Teks berhasil disimpan di: /Users/mhdfarhanali/Documents/InstruRAG/data/raw/instrumentation_sensors.txt\n"
     ]
    }
   ],
   "source": [
    "clean_text = \" \".join(all_text.split())\n",
    "\n",
    "output_path = \"/Users/mhdfarhanali/Documents/InstruRAG/data/raw/instrumentation_sensors.txt\"\n",
    "os.makedirs(os.path.dirname(output_path), exist_ok=True)\n",
    "\n",
    "with open(output_path, \"w\", encoding=\"utf-8\") as f:\n",
    "    f.write(clean_text)\n",
    "\n",
    "print(f\"Teks berhasil disimpan di: {output_path}\")"
   ]
  },
  {
   "cell_type": "code",
   "execution_count": 6,
   "id": "fb21e130",
   "metadata": {},
   "outputs": [
    {
     "name": "stdout",
     "output_type": "stream",
     "text": [
      "--- [HALAMAN 1] --- This E-Book and More From http://ali-almukhtar.blogspot.com --- [HALAMAN 2] --- Introduction to Instrumentation, Sensors, and Process Control --- [HALAMAN 3] --- For a listing of related titles from Artech House, turn to the back of this book --- [HALAMAN 4] --- Introduction to Instrumentation, Sensors, and Process Control William C. Dunn artechhouse.com --- [HALAMAN 5] --- Library of Congress Cataloging-in-Publication Data Dunn, William C. Introduction to instrumentation, sensors, and process control/William C. Dunn. p. cm. —(Artech House Sensors library) ISBN 1-58053-011-7 (alk. paper) 1. Process control. 2. Detectors. I. Title. II. Series. TS156.8.D86 2005 670.42'7—dc22 2005050832 British Library Cataloguing in Publication Data Dunn, William C. Introduction to instrumentation, sensors, and process control. —(Artech House sensors library) 1. Engineering instruments 2. Electronic instruments 3. Process control I. Title 681.2 ISBN-10: 1-58053-011-7 Cover design by C\n"
     ]
    }
   ],
   "source": [
    "# Baca beberapa baris pertama untuk memastikan\n",
    "with open(output_path, \"r\", encoding=\"utf-8\") as f:\n",
    "    preview = f.read(1000)\n",
    "\n",
    "print(preview)"
   ]
  },
  {
   "cell_type": "markdown",
   "id": "b36f465a",
   "metadata": {},
   "source": [
    "# Interpretasi\n",
    "\n",
    "1. Tujuan\n",
    "Notebook ini digunakan untuk mengambil teks dari file PDF yang berisi materi tentang instrumentasi, sensor, dan kontrol proses.\n",
    "Tujuan utama tahap ini adalah untuk menyiapkan data mentah yang nantinya akan digunakan oleh sistem RAG (Retrieval Augmented Generation).\n",
    "Dengan teks hasil ekstraksi ini, chatbot InstruRAG bisa menjawab pertanyaan berdasarkan isi buku asli, bukan hanya dari hafalan model.\n",
    "\n",
    "2. Proses yang Dilakukan\n",
    "Langkah pertama adalah membuka file PDF menggunakan library PyMuPDF.\n",
    "Setelah itu, program membaca halaman demi halaman dari total 349 halaman buku.\n",
    "Proses ini berjalan otomatis dan ada progress bar untuk memantau sejauh mana proses ekstraksi berlangsung.\n",
    "Setelah semua halaman selesai dibaca, seluruh teks digabung menjadi satu dan disimpan dalam bentuk file .txt di folder data/raw/.\n",
    "Hasilnya menunjukkan bahwa semua halaman berhasil dibaca tanpa error dan prosesnya juga sangat cepat.\n",
    "\n",
    "3. Hasil Ekstraksi\n",
    "Dari hasil yang ditampilkan, terlihat bahwa program berhasil membaca isi dari setiap halaman.\n",
    "Teks dari setiap halaman diberi tanda seperti “--- [HALAMAN 1] ---”, “--- [HALAMAN 2] ---”, dan seterusnya.\n",
    "Tanda ini membantu memisahkan setiap bagian agar nanti mudah saat proses pembagian teks (chunking).\n",
    "Beberapa bagian awal buku yang muncul adalah informasi umum seperti nama penulis, judul, dan keterangan katalog dari Library of Congress.\n",
    "Setelah halaman-halaman awal, mulai muncul isi buku yang menjelaskan tentang instrumentasi, sensor, dan kontrol proses.\n",
    "\n",
    "4. Analisis Hasil\n",
    "Dari hasil ekstraksi, bisa disimpulkan bahwa proses berjalan lancar tanpa ada halaman yang terlewat.\n",
    "Teks yang dihasilkan sudah rapi dan mudah dibaca.\n",
    "Ada sedikit bagian yang berisi watermark atau tulisan sumber (seperti alamat blog di awal buku), tapi itu hal biasa dan nanti bisa dibersihkan pada tahap berikutnya.\n",
    "Secara keseluruhan, kualitas teks yang diambil sudah sangat baik dan siap untuk digunakan di tahap selanjutnya.\n",
    "\n",
    "5. Kesimpulan\n",
    "Tahap ekstraksi ini bisa dianggap sebagai langkah pertama yang sangat penting dalam proyek Instru RAG.\n",
    "Dari sini, kita sudah punya sumber pengetahuan yang lengkap dalam bentuk teks mentah.\n",
    "File hasil ekstraksi berhasil disimpan dengan nama instrumentation_sensors.txt dan siap diproses lebih lanjut di notebook berikutnya, yaitu 1_ingestion.ipynb.\n",
    "Dengan hasil ini, fondasi chatbot sudah terbentuk.\n",
    "Tanpa teks ini, sistem RAG tidak akan punya “bahan” untuk menjawab pertanyaan pengguna.\n",
    "\n",
    "### Catatan Pribadi\n",
    "Menurut saya, tahap ini cukup seru karena terlihat bagaimana komputer bisa membaca dan menyalin isi buku teknik yang tebal hanya dalam beberapa detik.\n",
    "Awalnya saya kira akan lama atau error di tengah jalan, tapi ternyata berhasil dengan cepat dan lancar.\n",
    "Saya juga belajar bahwa file teks hasil ekstraksi ini nanti akan menjadi dasar agar chatbot bisa memahami istilah teknis seperti sensor, transducer, PID control, dan lain-lain.\n",
    "Jadi, tahap ini bisa dibilang seperti “menyiapkan bahan mentah” sebelum nanti diolah di tahap berikutnya.\n",
    "Kalau tahap ini sudah benar, langkah-langkah selanjutnya akan lebih mudah dan hasilnya juga lebih akurat."
   ]
  }
 ],
 "metadata": {
  "kernelspec": {
   "display_name": ".venv",
   "language": "python",
   "name": "python3"
  },
  "language_info": {
   "codemirror_mode": {
    "name": "ipython",
    "version": 3
   },
   "file_extension": ".py",
   "mimetype": "text/x-python",
   "name": "python",
   "nbconvert_exporter": "python",
   "pygments_lexer": "ipython3",
   "version": "3.11.9"
  }
 },
 "nbformat": 4,
 "nbformat_minor": 5
}
