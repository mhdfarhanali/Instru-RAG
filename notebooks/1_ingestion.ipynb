{
 "cells": [
  {
   "cell_type": "code",
   "execution_count": 1,
   "id": "7da295bb",
   "metadata": {},
   "outputs": [],
   "source": [
    "import os\n",
    "import pandas as pd\n",
    "from tqdm import tqdm\n",
    "from sentence_transformers import SentenceTransformer\n",
    "from qdrant_client import QdrantClient, models\n",
    "from qdrant_client.models import VectorParams, Distance\n",
    "import uuid"
   ]
  },
  {
   "cell_type": "code",
   "execution_count": 2,
   "id": "2bb41606",
   "metadata": {},
   "outputs": [
    {
     "name": "stdout",
     "output_type": "stream",
     "text": [
      "Panjang teks (karakter): 670951\n",
      "Cuplikan awal teks:\n",
      " --- [HALAMAN 1] --- This E-Book and More From http://ali-almukhtar.blogspot.com --- [HALAMAN 2] --- Introduction to Instrumentation, Sensors, and Process Control --- [HALAMAN 3] --- For a listing of related titles from Artech House, turn to the back of this book --- [HALAMAN 4] --- Introduction to Instrumentation, Sensors, and Process Control William C. Dunn artechhouse.com --- [HALAMAN 5] --- Library of Congress Cataloging-in-Publication Data Dunn, William C. Introduction to instrumentation, se\n"
     ]
    }
   ],
   "source": [
    "# Path file hasil ekstraksi PDF\n",
    "data_path = \"/Users/mhdfarhanali/Documents/InstruRAG/data/raw/instrumentation_sensors.txt\"\n",
    "\n",
    "with open(data_path, \"r\", encoding=\"utf-8\") as f:\n",
    "    raw_text = f.read()\n",
    "\n",
    "print(\"Panjang teks (karakter):\", len(raw_text))\n",
    "print(\"Cuplikan awal teks:\\n\", raw_text[:500])"
   ]
  },
  {
   "cell_type": "code",
   "execution_count": 3,
   "id": "db709510",
   "metadata": {},
   "outputs": [
    {
     "name": "stdout",
     "output_type": "stream",
     "text": [
      "Jumlah chunks: 1677\n",
      "Contoh chunk:\n",
      " --- [HALAMAN 1] --- This E-Book and More From http://ali-almukhtar.blogspot.com --- [HALAMAN 2] --- Introduction to Instrumentation, Sensors, and Process Control --- [HALAMAN 3] --- For a listing of related titles from Artech House, turn to the back of this book --- [HALAMAN 4] --- Introduction to I\n"
     ]
    }
   ],
   "source": [
    "from langchain_text_splitters import RecursiveCharacterTextSplitter\n",
    "\n",
    "text_splitter = RecursiveCharacterTextSplitter(\n",
    "    chunk_size=500,\n",
    "    chunk_overlap=100\n",
    ")\n",
    "chunks = text_splitter.split_text(raw_text)\n",
    "\n",
    "print(f\"Jumlah chunks: {len(chunks)}\")\n",
    "print(\"Contoh chunk:\\n\", chunks[0][:300])"
   ]
  },
  {
   "cell_type": "code",
   "execution_count": 4,
   "id": "b3184c34",
   "metadata": {},
   "outputs": [
    {
     "data": {
      "application/vnd.jupyter.widget-view+json": {
       "model_id": "fd6aaa85bc1649cc84cbb518f74f081a",
       "version_major": 2,
       "version_minor": 0
      },
      "text/plain": [
       "Batches:   0%|          | 0/53 [00:00<?, ?it/s]"
      ]
     },
     "metadata": {},
     "output_type": "display_data"
    },
    {
     "name": "stdout",
     "output_type": "stream",
     "text": [
      "Embedding selesai!\n",
      "Jumlah chunks: 1677\n",
      "Dimensi vektor: 384\n"
     ]
    }
   ],
   "source": [
    "from sentence_transformers import SentenceTransformer\n",
    "import numpy as np\n",
    "\n",
    "# Load model\n",
    "embedding_model = SentenceTransformer(\"sentence-transformers/all-MiniLM-L6-v2\")\n",
    "\n",
    "# Encode + normalisasi\n",
    "embeddings = embedding_model.encode(\n",
    "    chunks,\n",
    "    show_progress_bar=True,\n",
    "    convert_to_numpy=True,\n",
    "    normalize_embeddings=True\n",
    ")\n",
    "\n",
    "print(\"Embedding selesai!\")\n",
    "print(f\"Jumlah chunks: {len(chunks)}\")\n",
    "print(f\"Dimensi vektor: {embeddings.shape[1]}\")\n"
   ]
  },
  {
   "cell_type": "code",
   "execution_count": 5,
   "id": "40195c7c",
   "metadata": {},
   "outputs": [
    {
     "name": "stdout",
     "output_type": "stream",
     "text": [
      "Koleksi 'instru_collection' sudah ada\n",
      "Data berhasil diunggah ke Qdrant\n"
     ]
    }
   ],
   "source": [
    "# Hubungkan ke Qdrant\n",
    "from qdrant_client import QdrantClient, models\n",
    "\n",
    "qdrant = QdrantClient(host=\"localhost\", port=6333)\n",
    "collection_name = \"instru_collection\"\n",
    "\n",
    "# Buat koleksi jika belum ada\n",
    "try:\n",
    "    qdrant.get_collection(collection_name)\n",
    "    print(f\"Koleksi '{collection_name}' sudah ada\")\n",
    "except:\n",
    "    qdrant.create_collection(\n",
    "        collection_name=collection_name,\n",
    "        vectors_config=models.VectorParams(\n",
    "            size=embeddings.shape[1],\n",
    "            distance=models.Distance.COSINE\n",
    "        )\n",
    "    )\n",
    "    print(f\"Koleksi '{collection_name}' berhasil dibuat\")\n",
    "\n",
    "# Filter chunk kosong dulu\n",
    "chunks = [c for c in chunks if c and c.strip()]\n",
    "\n",
    "# Siapkan data points\n",
    "points = [\n",
    "    models.PointStruct(\n",
    "        id=i,\n",
    "        vector=embeddings[i],\n",
    "        payload={\"page_content\": str(chunks[i])} \n",
    "    )\n",
    "    for i in range(len(chunks))\n",
    "]\n",
    "\n",
    "# Upload data ke Qdrant\n",
    "qdrant.upsert(\n",
    "    collection_name=collection_name,\n",
    "    points=points\n",
    ")\n",
    "print(\"Data berhasil diunggah ke Qdrant\")"
   ]
  },
  {
   "cell_type": "code",
   "execution_count": 6,
   "id": "8a6d33c8",
   "metadata": {},
   "outputs": [
    {
     "name": "stdout",
     "output_type": "stream",
     "text": [
      "Data disimpan di data/processed/instru_chunks.csv\n"
     ]
    }
   ],
   "source": [
    "import pandas as pd\n",
    "\n",
    "df = pd.DataFrame({\n",
    "    \"text\": chunks,\n",
    "    \"embedding\": embeddings.tolist()\n",
    "})\n",
    "df.to_csv(\"/Users/mhdfarhanali/Documents/InstruRAG/data/processed/instru_chunks.csv\", index=False)\n",
    "print(\"Data disimpan di data/processed/instru_chunks.csv\")"
   ]
  }
 ],
 "metadata": {
  "kernelspec": {
   "display_name": ".venv",
   "language": "python",
   "name": "python3"
  },
  "language_info": {
   "codemirror_mode": {
    "name": "ipython",
    "version": 3
   },
   "file_extension": ".py",
   "mimetype": "text/x-python",
   "name": "python",
   "nbconvert_exporter": "python",
   "pygments_lexer": "ipython3",
   "version": "3.11.9"
  }
 },
 "nbformat": 4,
 "nbformat_minor": 5
}
