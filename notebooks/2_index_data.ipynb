{
 "cells": [
  {
   "cell_type": "code",
   "execution_count": 6,
   "id": "35bafc65",
   "metadata": {},
   "outputs": [],
   "source": [
    "from sentence_transformers import SentenceTransformer\n",
    "from qdrant_client import QdrantClient\n",
    "from qdrant_client.models import Distance\n",
    "import pandas as pd"
   ]
  },
  {
   "cell_type": "code",
   "execution_count": 7,
   "id": "40d758bb",
   "metadata": {},
   "outputs": [
    {
     "name": "stdout",
     "output_type": "stream",
     "text": [
      "Koneksi ke koleksi 'instru_collection' berhasil. Siap untuk query!\n"
     ]
    }
   ],
   "source": [
    "# Inisialisasi model embedding\n",
    "embedding_model = SentenceTransformer(\"sentence-transformers/all-MiniLM-L6-v2\")\n",
    "\n",
    "# Hubungkan ke Qdrant\n",
    "qdrant = QdrantClient(host=\"localhost\", port=6333)\n",
    "collection_name = \"instru_collection\"\n",
    "\n",
    "print(f\"Koneksi ke koleksi '{collection_name}' berhasil. Siap untuk query!\")"
   ]
  },
  {
   "cell_type": "code",
   "execution_count": 8,
   "id": "3a2e5a51",
   "metadata": {},
   "outputs": [],
   "source": [
    "# Pertanyaan uji coba\n",
    "query = \"What is a transducer in instrumentation?\"\n",
    "\n",
    "# Buat embedding dari pertanyaan\n",
    "query_vector = embedding_model.encode(query)"
   ]
  },
  {
   "cell_type": "code",
   "execution_count": 11,
   "id": "3dc52765",
   "metadata": {},
   "outputs": [
    {
     "name": "stdout",
     "output_type": "stream",
     "text": [
      "\n",
      "Hasil pencarian paling relevan:\n",
      "\n",
      "(score=0.697)\n",
      "A transducer converts one form of energy into another, often physical to electrical.\n",
      "\n",
      "================================================================================\n",
      "\n",
      "(score=0.697)\n",
      "A transducer converts one form of energy into another, often physical to electrical.\n",
      "\n",
      "================================================================================\n",
      "\n",
      "(score=0.681)\n",
      "Transducer A device that changes energy from one form to another. Transfer function An equation that\n",
      "describes the relationship between the input and output of the function. Transmission The\n",
      "transferring of information from one point to another. Transmitter A device that conditions the\n",
      "signal received from a transducer so that it is suitable for sending to another location with\n",
      "minimal loss of information. Turbine flow meter A flow-measuring device utilizing a turbine wheel.\n",
      "Ultrasonic probe An\n",
      "\n",
      "================================================================================\n",
      "\n"
     ]
    }
   ],
   "source": [
    "search_results = qdrant.query_points(\n",
    "    collection_name=collection_name,\n",
    "    query=query_vector,\n",
    "    limit=3,\n",
    ")\n",
    "\n",
    "import textwrap\n",
    "\n",
    "print(\"\\nHasil pencarian paling relevan:\\n\")\n",
    "for hit in search_results.points:\n",
    "    content = hit.payload.get(\"page_content\") or hit.payload.get(\"text\", \"\")\n",
    "    print(f\"(score={hit.score:.3f})\")\n",
    "    print(textwrap.fill(content, width=100))\n",
    "    print(\"\\n\" + \"=\"*80 + \"\\n\")"
   ]
  }
 ],
 "metadata": {
  "kernelspec": {
   "display_name": ".venv",
   "language": "python",
   "name": "python3"
  },
  "language_info": {
   "codemirror_mode": {
    "name": "ipython",
    "version": 3
   },
   "file_extension": ".py",
   "mimetype": "text/x-python",
   "name": "python",
   "nbconvert_exporter": "python",
   "pygments_lexer": "ipython3",
   "version": "3.11.9"
  }
 },
 "nbformat": 4,
 "nbformat_minor": 5
}
