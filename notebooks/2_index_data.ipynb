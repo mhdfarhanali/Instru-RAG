{
 "cells": [
  {
   "cell_type": "code",
   "execution_count": 1,
   "id": "35bafc65",
   "metadata": {},
   "outputs": [
    {
     "name": "stderr",
     "output_type": "stream",
     "text": [
      "/Users/mhdfarhanali/Documents/Instru RAG/.venv/lib/python3.11/site-packages/tqdm/auto.py:21: TqdmWarning: IProgress not found. Please update jupyter and ipywidgets. See https://ipywidgets.readthedocs.io/en/stable/user_install.html\n",
      "  from .autonotebook import tqdm as notebook_tqdm\n"
     ]
    }
   ],
   "source": [
    "from sentence_transformers import SentenceTransformer\n",
    "from qdrant_client import QdrantClient\n",
    "from qdrant_client.models import Distance\n",
    "import pandas as pd"
   ]
  },
  {
   "cell_type": "code",
   "execution_count": 2,
   "id": "40d758bb",
   "metadata": {},
   "outputs": [
    {
     "name": "stdout",
     "output_type": "stream",
     "text": [
      "Koneksi ke koleksi 'instru_collection' berhasil. Siap untuk query!\n"
     ]
    }
   ],
   "source": [
    "# Inisialisasi model embedding\n",
    "embedding_model = SentenceTransformer(\"sentence-transformers/all-MiniLM-L6-v2\")\n",
    "\n",
    "# Hubungkan ke Qdrant\n",
    "qdrant = QdrantClient(host=\"localhost\", port=6333)\n",
    "collection_name = \"instru_collection\"\n",
    "\n",
    "print(f\"Koneksi ke koleksi '{collection_name}' berhasil. Siap untuk query!\")"
   ]
  },
  {
   "cell_type": "code",
   "execution_count": 3,
   "id": "3a2e5a51",
   "metadata": {},
   "outputs": [],
   "source": [
    "# Pertanyaan uji coba\n",
    "query = \"What is a transducer in instrumentation?\"\n",
    "\n",
    "# Buat embedding dari pertanyaan\n",
    "query_vector = embedding_model.encode(query)"
   ]
  },
  {
   "cell_type": "code",
   "execution_count": 4,
   "id": "3dc52765",
   "metadata": {},
   "outputs": [
    {
     "name": "stdout",
     "output_type": "stream",
     "text": [
      "\n",
      "Hasil pencarian paling relevan:\n",
      "\n",
      "(score=0.697)\n",
      "A transducer converts one form of energy into another, often physical to electrical.\n",
      "\n",
      "================================================================================\n",
      "\n",
      "(score=0.697)\n",
      "A transducer converts one form of energy into another, often physical to electrical.\n",
      "\n",
      "================================================================================\n",
      "\n",
      "(score=0.681)\n",
      "Transducer A device that changes energy from one form to another. Transfer function An equation that\n",
      "describes the relationship between the input and output of the function. Transmission The\n",
      "transferring of information from one point to another. Transmitter A device that conditions the\n",
      "signal received from a transducer so that it is suitable for sending to another location with\n",
      "minimal loss of information. Turbine flow meter A flow-measuring device utilizing a turbine wheel.\n",
      "Ultrasonic probe An\n",
      "\n",
      "================================================================================\n",
      "\n"
     ]
    }
   ],
   "source": [
    "search_results = qdrant.query_points(\n",
    "    collection_name=collection_name,\n",
    "    query=query_vector,\n",
    "    limit=3,\n",
    ")\n",
    "\n",
    "import textwrap\n",
    "\n",
    "print(\"\\nHasil pencarian paling relevan:\\n\")\n",
    "for hit in search_results.points:\n",
    "    content = hit.payload.get(\"page_content\") or hit.payload.get(\"text\", \"\")\n",
    "    print(f\"(score={hit.score:.3f})\")\n",
    "    print(textwrap.fill(content, width=100))\n",
    "    print(\"\\n\" + \"=\"*80 + \"\\n\")"
   ]
  },
  {
   "cell_type": "markdown",
   "id": "82377f7e",
   "metadata": {},
   "source": [
    "# Interpretasi\n",
    "\n",
    "1. Tujuan\n",
    "Notebook ini digunakan untuk menguji apakah data hasil ingestion sudah tersimpan dengan benar di database Qdrant, serta memastikan bahwa sistem bisa mencari informasi yang relevan berdasarkan pertanyaan (query) yang diberikan.\n",
    "Tahap ini bisa dibilang sebagai “uji pencarian otak” dari Instru RAG, karena di sinilah sistem pertama kali mencoba menemukan konteks yang sesuai dari ribuan potongan teks (chunks) yang sudah dimasukkan sebelumnya.\n",
    "\n",
    "2. Proses yang Dilakukan\n",
    "Langkah-langkah yang dilakukan di tahap ini cukup sederhana tapi penting:\n",
    "\n",
    "a. Koneksi ke Database\n",
    "Pertama, sistem mencoba terhubung ke database Qdrant dan mengakses koleksi (collection) yang sudah dibuat sebelumnya, yaitu instru_collection.\n",
    "Pesan yang muncul di terminal:\n",
    "“Koneksi ke koleksi 'instru_collection' berhasil. Siap untuk query!”\n",
    "Ini berarti database aktif dan sistem siap digunakan untuk melakukan pencarian informasi.\n",
    "\n",
    "b. Membuat Query (Pertanyaan)\n",
    "Selanjutnya, dilakukan pengujian dengan membuat sebuah pertanyaan contoh:\n",
    "“What is a transducer in instrumentation?”\n",
    "Pertanyaan ini dipilih karena sangat umum di bidang instrumentasi dan pasti ada di dalam isi buku Introduction to Instrumentation, Sensors, and Process Control.\n",
    "\n",
    "c. Proses Pencarian (Retrieval)\n",
    "Sistem kemudian mengubah pertanyaan tersebut menjadi vektor numerik menggunakan model embedding.\n",
    "Lalu vektor pertanyaan dibandingkan dengan vektor-vektor yang ada di database untuk mencari potongan teks yang paling mirip secara semantik.\n",
    "Dengan kata lain, sistem tidak mencari kata yang persis sama, tetapi mencari makna yang paling mirip.\n",
    "\n",
    "d. Hasil Pencarian\n",
    "Hasil yang muncul menunjukkan bahwa sistem berhasil menemukan beberapa potongan teks yang relevan dengan pertanyaan.\n",
    "Berikut ringkasan hasilnya:\n",
    "\n",
    "(score=0.697)\n",
    "A transducer converts one form of energy into another, often physical to electrical.\n",
    "dan\n",
    "\n",
    "(score=0.681)\n",
    "Transducer A device that changes energy from one form to another. Transfer function An equation that\n",
    "describes the relationship between the input and output of the function...\n",
    "\n",
    "Nilai score menunjukkan tingkat kemiripan antara pertanyaan dan teks yang ditemukan.\n",
    "Semakin tinggi nilainya (mendekati 1.0), semakin relevan hasilnya.\n",
    "Dari hasil di atas, terlihat bahwa sistem bisa menjawab dengan benar bahwa transducer adalah alat yang mengubah satu bentuk energi menjadi bentuk energi lain, biasanya dari energi fisik ke energi listrik.\n",
    "\n",
    "3. Hasil Akhir\n",
    "Dari hasil pengujian, bisa disimpulkan bahwa:\n",
    "Sistem berhasil terhubung dengan Qdrant tanpa error.\n",
    "Query atau pertanyaan bisa dijalankan dan menghasilkan potongan teks yang relevan.\n",
    "Hasil pencarian sesuai konteks isi buku, artinya data di database sudah terindeks dengan benar.\n",
    "Secara keseluruhan, tahap ini memastikan bahwa Instru RAG sudah “bisa berpikir” dengan membaca isi database-nya sendiri.\n",
    "\n",
    "4. Kesimpulan\n",
    "Tahap 2_index_data.ipynb merupakan langkah penting yang membuktikan bahwa proses ingestion sebelumnya berjalan dengan benar.\n",
    "Sekarang sistem bisa melakukan pencarian konteks otomatis yang akan menjadi dasar bagi tahap selanjutnya, yaitu inference (menjawab pertanyaan secara penuh dengan bantuan LLM).\n",
    "Dengan hasil ini, chatbot Instru RAG sudah memiliki kemampuan retrieval yang baik dan siap digabungkan dengan model AI untuk menghasilkan jawaban cerdas.\n",
    "\n",
    "## Catatan Pribadi\n",
    "Menurut saya, tahap ini seperti melatih chatbot untuk mencari jawaban di “otaknya sendiri”.\n",
    "Awalnya saya ragu apakah sistem bisa menemukan bagian teks yang tepat, tapi setelah melihat hasilnya yang relevan dengan kata “transducer”, saya jadi lebih paham cara kerja RAG sebenarnya.\n",
    "Saya juga belajar bahwa angka score di hasil pencarian itu menunjukkan seberapa mirip arti antara pertanyaan dan teks di database.\n",
    "Melihat sistem berhasil menemukan penjelasan yang benar membuat saya cukup bangga karena ini berarti semua proses sebelumnya berhasil dilakukan dengan benar."
   ]
  }
 ],
 "metadata": {
  "kernelspec": {
   "display_name": ".venv",
   "language": "python",
   "name": "python3"
  },
  "language_info": {
   "codemirror_mode": {
    "name": "ipython",
    "version": 3
   },
   "file_extension": ".py",
   "mimetype": "text/x-python",
   "name": "python",
   "nbconvert_exporter": "python",
   "pygments_lexer": "ipython3",
   "version": "3.11.9"
  }
 },
 "nbformat": 4,
 "nbformat_minor": 5
}
