{
 "cells": [
  {
   "cell_type": "code",
   "execution_count": null,
   "id": "c386ce09",
   "metadata": {},
   "outputs": [
    {
     "ename": "ModuleNotFoundError",
     "evalue": "No module named 'langchain_core'",
     "output_type": "error",
     "traceback": [
      "\u001b[31m---------------------------------------------------------------------------\u001b[39m",
      "\u001b[31mModuleNotFoundError\u001b[39m                       Traceback (most recent call last)",
      "\u001b[36mCell\u001b[39m\u001b[36m \u001b[39m\u001b[32mIn[15]\u001b[39m\u001b[32m, line 1\u001b[39m\n\u001b[32m----> \u001b[39m\u001b[32m1\u001b[39m \u001b[38;5;28;01mfrom\u001b[39;00m\u001b[38;5;250m \u001b[39m\u001b[34;01mlangchain_core\u001b[39;00m\u001b[34;01m.\u001b[39;00m\u001b[34;01mmemory\u001b[39;00m\u001b[38;5;250m \u001b[39m\u001b[38;5;28;01mimport\u001b[39;00m ConversationBufferMemory\n\u001b[32m      2\u001b[39m \u001b[38;5;28;01mfrom\u001b[39;00m\u001b[38;5;250m \u001b[39m\u001b[34;01mlangchain\u001b[39;00m\u001b[34;01m.\u001b[39;00m\u001b[34;01mchains\u001b[39;00m\u001b[38;5;250m \u001b[39m\u001b[38;5;28;01mimport\u001b[39;00m ConversationalRetrievalChain\n\u001b[32m      3\u001b[39m \u001b[38;5;28;01mfrom\u001b[39;00m\u001b[38;5;250m \u001b[39m\u001b[34;01mlangchain\u001b[39;00m\u001b[34;01m.\u001b[39;00m\u001b[34;01mprompts\u001b[39;00m\u001b[38;5;250m \u001b[39m\u001b[38;5;28;01mimport\u001b[39;00m PromptTemplate\n",
      "\u001b[31mModuleNotFoundError\u001b[39m: No module named 'langchain_core'"
     ]
    }
   ],
   "source": [
    "from langchain_openai import ChatOpenAI\n",
    "from langchain_huggingface import HuggingFaceEmbeddings\n",
    "from langchain_community.vectorstores import Qdrant\n",
    "from langchain.prompts import PromptTemplate\n",
    "from langchain.chains import ConversationalRetrievalChain\n",
    "from langchain.memory import ConversationBufferMemory\n",
    "from qdrant_client import QdrantClient\n",
    "from dotenv import load_dotenv\n",
    "import os\n"
   ]
  },
  {
   "cell_type": "code",
   "execution_count": null,
   "id": "6cbde836",
   "metadata": {},
   "outputs": [],
   "source": [
    "# Load\n",
    "load_dotenv()\n",
    "\n",
    "# Koneksi ke Qdrant\n",
    "qdrant_client = QdrantClient(url=\"http://localhost:6333\")\n",
    "\n",
    "# Load embedding model yang sama\n",
    "embedding_model = HuggingFaceEmbeddings(model_name=\"sentence-transformers/all-MiniLM-L6-v2\")\n",
    "\n",
    "# Load kembali vector store\n",
    "vectorstore = Qdrant(\n",
    "    client=qdrant_client,\n",
    "    collection_name=\"instru_collection\",\n",
    "    embeddings=embedding_model,\n",
    ")\n",
    "retriever = vectorstore.as_retriever(search_kwargs={\"k\": 3})"
   ]
  },
  {
   "cell_type": "code",
   "execution_count": null,
   "id": "3c7dbe4d",
   "metadata": {},
   "outputs": [],
   "source": [
    "# Buat memory buffer\n",
    "memory = ConversationBufferMemory(memory_key=\"chat_history\", return_messages=True)\n",
    "\n",
    "# Buat prompt template\n",
    "template = \"\"\"You are InstruRAG, an AI Agent specializing in Instrumentation and Control Engineering.\n",
    "Use the provided context from the knowledge base to answer clearly and accurately.\n",
    "\n",
    "Context:\n",
    "{context}\n",
    "\n",
    "Conversation History:\n",
    "{chat_history}\n",
    "\n",
    "Question:\n",
    "{question}\n",
    "\n",
    "Answer in a concise, technical, and easy-to-understand manner.\n",
    "\"\"\"\n",
    "\n",
    "rag_prompt = PromptTemplate(\n",
    "    input_variables=[\"context\", \"chat_history\", \"question\"],\n",
    "    template=template\n",
    ")"
   ]
  },
  {
   "cell_type": "code",
   "execution_count": null,
   "id": "af2c4c3e",
   "metadata": {},
   "outputs": [],
   "source": [
    "# Buat conversational chain\n",
    "rag_chain = ConversationalRetrievalChain.from_llm(\n",
    "    llm=ChatOpenAI(\n",
    "        openai_api_key=os.getenv(\"GROQ_API_KEY\"),\n",
    "        openai_api_base=\"https://api.groq.com/openai/v1\",\n",
    "        model_name=\"llama-3.1-8b-instant\",\n",
    "        temperature=0.2,\n",
    "    ),\n",
    "    retriever=retriever,\n",
    "    memory=memory,\n",
    "    combine_docs_chain_kwargs={\"prompt\": rag_prompt}\n",
    ")"
   ]
  },
  {
   "cell_type": "code",
   "execution_count": null,
   "id": "4de5b61b",
   "metadata": {},
   "outputs": [],
   "source": [
    "print(\"InstruRAG is ready!\")\n",
    "\n",
    "while True:\n",
    "    user_input = input(\"You: \")\n",
    "    if user_input.lower() in [\"exit\", \"quit\", \"stop\"]:\n",
    "        print(\"Goodbye!\")\n",
    "        break\n",
    "    \n",
    "    response = rag_chain.invoke({\"question\": user_input})\n",
    "    print(f\"InstruRAG: {response}\\n\")"
   ]
  },
  {
   "cell_type": "code",
   "execution_count": null,
   "id": "57e2d833",
   "metadata": {},
   "outputs": [],
   "source": [
    "import uuid\n",
    "from openai import OpenAI\n",
    "\n",
    "# Client Groq LLM\n",
    "client = OpenAI(\n",
    "    api_key=os.getenv(\"GROQ_API_KEY\"),\n",
    "    base_url=\"https://api.groq.com/openai/v1\"\n",
    ")"
   ]
  },
  {
   "cell_type": "code",
   "execution_count": null,
   "id": "aa2bf47d",
   "metadata": {},
   "outputs": [],
   "source": [
    "def add_many_knowledge(texts: list):\n",
    "    \"\"\"Menambahkan banyak knowledge sekaligus ke Qdrant\"\"\"\n",
    "    points = []\n",
    "    for text in texts:\n",
    "        embedding = embedding_model.embed_query(text)\n",
    "        points.append({\n",
    "            \"id\": str(uuid.uuid4()),\n",
    "            \"vector\": embedding,\n",
    "            \"payload\": {\"page_content\": str(text)}\n",
    "        })\n",
    "    \n",
    "    qdrant_client.upsert(\n",
    "        collection_name=\"instru_collection\",\n",
    "        points=points\n",
    "    )\n",
    "    return f\"{len(texts)} knowledge entries added successfully.\"\n"
   ]
  },
  {
   "cell_type": "code",
   "execution_count": null,
   "id": "b4a7a951",
   "metadata": {},
   "outputs": [],
   "source": [
    "def retrieve_context(query: str) -> str:\n",
    "    query_vector = embedding_model.embed_query(query)\n",
    "\n",
    "    results = qdrant_client.query_points(\n",
    "        collection_name=\"instru_collection\",\n",
    "        query=query_vector,\n",
    "        limit=3\n",
    "    )\n",
    "\n",
    "    context = \"\\n\\n\".join([\n",
    "        r.payload.get(\"page_content\") or r.payload.get(\"text\", \"\")\n",
    "        for r in results.points\n",
    "        if r.payload.get(\"page_content\") or r.payload.get(\"text\")\n",
    "    ])\n",
    "    return context"
   ]
  },
  {
   "cell_type": "code",
   "execution_count": null,
   "id": "eecc0950",
   "metadata": {},
   "outputs": [],
   "source": [
    "def ask_instru_rag(query: str) -> str:\n",
    "    context = retrieve_context(query)\n",
    "\n",
    "    prompt = f\"\"\"\n",
    "You are InstruRAG, an expert in Instrumentation and Control Engineering.\n",
    "Use ONLY the context below to answer the question clearly and accurately.\n",
    "\n",
    "Context:\n",
    "{context}\n",
    "\n",
    "Question:\n",
    "{query}\n",
    "\n",
    "Answer in a concise, technical, and easy-to-understand manner:\n",
    "\"\"\"\n",
    "\n",
    "    response = client.chat.completions.create(\n",
    "        model=\"llama-3.1-8b-instant\",\n",
    "        messages=[{\"role\": \"user\", \"content\": prompt}],\n",
    "        temperature=0.3\n",
    "    )\n",
    "\n",
    "    return response.choices[0].message.content"
   ]
  },
  {
   "cell_type": "code",
   "execution_count": null,
   "id": "2cebd1ce",
   "metadata": {},
   "outputs": [],
   "source": [
    "automation_knowledge = [\n",
    "    \"A PLC (Programmable Logic Controller) is a rugged digital computer used for automation of electromechanical processes such as control of machinery on factory assembly lines.\",\n",
    "    \"A DCS (Distributed Control System) is an automated control system that uses multiple controllers distributed throughout a plant to control complex processes with high reliability.\",\n",
    "    \"SCADA (Supervisory Control and Data Acquisition) is a system of software and hardware used to monitor and control industrial processes remotely in real-time.\",\n",
    "    \"An HMI (Human-Machine Interface) is a user interface or dashboard that connects operators to controllers like PLCs and DCS for process visualization and control.\",\n",
    "    \"RTU (Remote Terminal Unit) is a microprocessor-controlled device that interfaces objects in the physical world to a SCADA or DCS system by transmitting telemetry data.\",\n",
    "    \"A PLC executes logic in a cyclic manner known as scan cycle: reading inputs, executing logic, and updating outputs.\",\n",
    "    \"DCS systems are typically used in continuous process industries such as oil refining, chemical plants, and power generation due to their scalability and fault tolerance.\",\n",
    "    \"SCADA systems often integrate with PLCs and RTUs to provide centralized monitoring, alarms, and historical data logging.\",\n",
    "    \"HMI systems display real-time data such as process values, alarms, and trends, allowing operators to monitor and interact with the system.\",\n",
    "    \"A fieldbus is an industrial communication network that connects field devices such as sensors, actuators, and controllers in automation systems.\",\n",
    "    \"Modbus is a widely used communication protocol in industrial automation for connecting PLCs, sensors, and control devices.\",\n",
    "    \"Profibus and Profinet are industrial communication standards used to connect PLCs, distributed I/O, and field devices in automation.\",\n",
    "    \"OPC (OLE for Process Control) is a standard interface for interoperability between different industrial hardware and software systems.\",\n",
    "    \"Redundancy in DCS and SCADA ensures high availability by providing backup controllers, networks, and servers.\",\n",
    "    \"Historian software in SCADA/DCS is used to store, compress, and retrieve process data for long-term analysis and reporting.\"\n",
    "]\n",
    "\n",
    "print(add_many_knowledge(automation_knowledge))\n",
    "\n",
    "\n",
    "# Tanya jawab\n",
    "queries = [\n",
    "    \"What is the difference between PLC and DCS?\",\n",
    "    \"How does SCADA work in an industrial plant?\",\n",
    "    \"What is the role of HMI in process automation?\",\n",
    "    \"Why is redundancy important in DCS?\",\n",
    "    \"What is Modbus and why is it used in automation?\"\n",
    "]\n",
    "\n",
    "for q in queries:\n",
    "    print(\"\\nQuestion:\", q)\n",
    "    print(\"Answer:\", ask_instru_rag(q))"
   ]
  },
  {
   "cell_type": "code",
   "execution_count": null,
   "id": "e33f5d66",
   "metadata": {},
   "outputs": [],
   "source": [
    "print(answer[:2000])"
   ]
  }
 ],
 "metadata": {
  "kernelspec": {
   "display_name": ".venv",
   "language": "python",
   "name": "python3"
  },
  "language_info": {
   "codemirror_mode": {
    "name": "ipython",
    "version": 3
   },
   "file_extension": ".py",
   "mimetype": "text/x-python",
   "name": "python",
   "nbconvert_exporter": "python",
   "pygments_lexer": "ipython3",
   "version": "3.11.9"
  }
 },
 "nbformat": 4,
 "nbformat_minor": 5
}
